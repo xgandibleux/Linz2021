{
 "cells": [
  {
   "cell_type": "markdown",
   "id": "022a9a22",
   "metadata": {},
   "source": [
    "# Lesson 6: Exercises"
   ]
  },
  {
   "cell_type": "markdown",
   "id": "230d4399",
   "metadata": {},
   "source": [
    "### 6.1 Consider the following optimisation problem:\n",
    "\n",
    "$\\max z  =  12 x_{1} + 20 x_{2}$\n",
    "\n",
    "$s.t. \\ 0,2x_{1} + 0,4x_{2} \\leq 400$\n",
    "\n",
    "$\\qquad 0,2x_{1} + 0,6x_{2} \\leq 800$\n",
    "\n",
    "$\\qquad x_{1}, x_{2} \\in \\mathbb{N}$\n",
    "\n",
    "- write the implicit JuMP model corresponding to this problem,\n",
    "- compute and return the optimal solution and the optimal value of the function."
   ]
  },
  {
   "cell_type": "code",
   "execution_count": null,
   "id": "11b0527e",
   "metadata": {},
   "outputs": [],
   "source": []
  },
  {
   "cell_type": "markdown",
   "id": "a7dc6649",
   "metadata": {},
   "source": [
    "### 6.2 For the unidimensional 01 knapsack problem, \n",
    "\n",
    "$z=\\max\\big\\{px \\mid wx \\le c, \\ x\\in\\{0,1\\}^n\\big\\}$\n",
    "\n",
    "with \n",
    "\n",
    "- $n=5$\n",
    "- $p=(\\ 5, \\ 3, \\ 2, \\ 7, \\ 4)$\n",
    "- $w=(\\ 2, \\ 8, \\ 4, \\ 2, \\ 5)$\n",
    "- $c=10$\n",
    "\n",
    "compute the optimal solution."
   ]
  },
  {
   "cell_type": "code",
   "execution_count": null,
   "id": "445bf31c",
   "metadata": {},
   "outputs": [],
   "source": []
  }
 ],
 "metadata": {
  "kernelspec": {
   "display_name": "Julia 1.7.2",
   "language": "julia",
   "name": "julia-1.7"
  },
  "language_info": {
   "file_extension": ".jl",
   "mimetype": "application/julia",
   "name": "julia",
   "version": "1.7.2"
  }
 },
 "nbformat": 4,
 "nbformat_minor": 5
}
