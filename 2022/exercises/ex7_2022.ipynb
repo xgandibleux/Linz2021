{
 "cells": [
  {
   "cell_type": "markdown",
   "id": "0b03dc00",
   "metadata": {},
   "source": [
    "# Lesson 7: Exercises"
   ]
  },
  {
   "cell_type": "markdown",
   "id": "94484bcf",
   "metadata": {},
   "source": [
    "### 7.1 For the unidimensional 01 knapsack problem, \n",
    "\n",
    "$z=\\max\\big\\{px \\mid wx \\le c, \\ x\\in\\{0,1\\}^n\\big\\}$\n",
    "\n",
    "with \n",
    "- $n=5$\n",
    "- $ p=(5, 3, 2, 7, 4)$ \n",
    "- $ w=(2, 8, 4, 2, 5)$ \n",
    "- $ c=10$\n",
    "\n",
    "compute randomly $m$ feasible solutions aiming to initialise a population of individuals for an evolutionary algorithm (genetic algorithms, ant colony, particle swarm optimisation, etc.).\n",
    "\n",
    "Example of result with $m=5$:\n",
    "```julia\n",
    "x = [0, 1, 0, 1, 0]\n",
    "z = 10\n",
    "x = [1, 0, 0, 1, 1]\n",
    "z = 16\n",
    "x = [1, 1, 0, 0, 0]\n",
    "z = 8\n",
    "x = [1, 0, 1, 1, 0]\n",
    "z = 14\n",
    "x = [1, 0, 1, 1, 0]\n",
    "z = 14\n",
    "```"
   ]
  },
  {
   "cell_type": "code",
   "execution_count": null,
   "id": "a86584fb",
   "metadata": {},
   "outputs": [],
   "source": []
  },
  {
   "cell_type": "markdown",
   "id": "0115448d",
   "metadata": {},
   "source": [
    "### 7.2 Revise the exercise 7.1 in order to compute and display also\n",
    "- the average value of $z(x)$, and \n",
    "- the average number of variables at 1 in solutions"
   ]
  },
  {
   "cell_type": "code",
   "execution_count": null,
   "id": "75185a4e",
   "metadata": {},
   "outputs": [],
   "source": []
  },
  {
   "cell_type": "markdown",
   "id": "7fe4b247",
   "metadata": {},
   "source": [
    "### 7.3 Revise the exercise 7.2 such that\n",
    "- the value of $n$ is randomly selected in $[10,500]$ \n",
    "- the value of $m$ is randomly selected in $[10,100]$ \n",
    "- the $n$ values of $p$ and $w$ are randomly selected in $[1,25]$\n",
    "- the value of $c$ is equal to $(\\sum_{i=1}^{n} w_i)/2$"
   ]
  },
  {
   "cell_type": "code",
   "execution_count": null,
   "id": "7158fcdf",
   "metadata": {},
   "outputs": [],
   "source": []
  },
  {
   "cell_type": "markdown",
   "id": "4113b530",
   "metadata": {},
   "source": [
    "### 7.4 Given the following range of values for $x$\n",
    "```julia\n",
    "x = -10:10\n",
    "```\n",
    "plot $y = x^2$."
   ]
  },
  {
   "cell_type": "code",
   "execution_count": null,
   "id": "438db96f",
   "metadata": {},
   "outputs": [],
   "source": []
  },
  {
   "cell_type": "markdown",
   "id": "d324303a",
   "metadata": {},
   "source": [
    "### 7.5 Revise the exercise 7.3 in order to plot the values of $z(x)$ for all solutions generated.\n",
    "Make sure that the graphic generated remains readable.\n",
    "\n",
    "Example :\n",
    "![example](exgraphic.png)"
   ]
  },
  {
   "cell_type": "code",
   "execution_count": null,
   "id": "47b6fde9",
   "metadata": {},
   "outputs": [],
   "source": []
  },
  {
   "cell_type": "markdown",
   "id": "3c2d7230",
   "metadata": {},
   "source": [
    "### 7.6 Execute the following code\n",
    "```julia\n",
    "using Plots; gr()\n",
    "p1 = plot(x, x)\n",
    "p2 = plot(x, x.^2)\n",
    "p3 = plot(x, x.^3)\n",
    "p4 = plot(x, x.^4)\n",
    "plot(p1,p2,p3,p4,layout=(2,2),legend=false)\n",
    "```\n",
    "and then create a $4 \\times 1$ plot that uses `p1`, `p2`, `p3`, and `p4` as subplots."
   ]
  },
  {
   "cell_type": "code",
   "execution_count": null,
   "id": "9e9efeb0",
   "metadata": {},
   "outputs": [],
   "source": []
  }
 ],
 "metadata": {
  "kernelspec": {
   "display_name": "Julia 1.7.2",
   "language": "julia",
   "name": "julia-1.7"
  },
  "language_info": {
   "file_extension": ".jl",
   "mimetype": "application/julia",
   "name": "julia",
   "version": "1.7.2"
  }
 },
 "nbformat": 4,
 "nbformat_minor": 5
}
