{
 "cells": [
  {
   "cell_type": "markdown",
   "id": "b001abc9",
   "metadata": {},
   "source": [
    "# Lesson 4: Exercises"
   ]
  },
  {
   "cell_type": "markdown",
   "id": "7d5bcc43",
   "metadata": {},
   "source": [
    "### 4.1 Create `myvct`, a vector with the following code:\n",
    "\n",
    "`myvct = [2, 7, 4]`\n",
    "\n",
    "1. Add the value 99 to the end of this vector.\n",
    "2. Remove the first value of this vector (hint: check the `reverse!` function)."
   ]
  },
  {
   "cell_type": "code",
   "execution_count": null,
   "id": "c886c05e",
   "metadata": {},
   "outputs": [],
   "source": []
  },
  {
   "cell_type": "markdown",
   "id": "e770c662",
   "metadata": {},
   "source": [
    "### 4.2 Create `mymtx`, a $3\\times4$ matrix of integers not initialised.\n",
    "\n",
    "1. Assign the following values to `mymtx` :\n",
    "$\\left(\\begin{array}{cccc}\n",
    "  5 & 8 & 3 & 6 \\\\\n",
    " 10 & 4 & 6 & 1 \\\\\n",
    "  7 & 5 & 2 & 8\n",
    "\\end{array}\\right)$\n",
    "2. Now: \n",
    "- assign the 3rd line of `mymtx` into a vector named `Vline`\n",
    "- copy the 2nd column of `mymtx` into a vector named `Vcolumn`\n",
    "- copy `mymtx` into an other matrix named `cpmtx`\n",
    "- assign the value 0 to `cpmtx[2,3]`\n",
    "- display `mymtx` and `cpmtx`\n",
    "- redesign `Vline` as a $2\\times2$ matrix named `nwmtx`\n",
    "- transpose `nwmtx` (hint: check the transpose operator) "
   ]
  },
  {
   "cell_type": "code",
   "execution_count": null,
   "id": "87a64ee9",
   "metadata": {},
   "outputs": [],
   "source": []
  },
  {
   "cell_type": "markdown",
   "id": "885d0c01",
   "metadata": {},
   "source": [
    "### 4.3 Use an array comprehension to create an array that stores the squares of all integers between 1 and 100."
   ]
  },
  {
   "cell_type": "code",
   "execution_count": null,
   "id": "a079a720",
   "metadata": {},
   "outputs": [],
   "source": []
  },
  {
   "cell_type": "markdown",
   "id": "9827a0e3",
   "metadata": {},
   "source": [
    "### 4.4 Declare two variables\n",
    "\n",
    "- `a = 3`\n",
    "- `b = 4`\n",
    "\n",
    "and use them to create two strings:\n",
    "\n",
    "- `\"3 + 4\"`\n",
    "- `\"7\"`"
   ]
  },
  {
   "cell_type": "code",
   "execution_count": null,
   "id": "4a6d22cb",
   "metadata": {},
   "outputs": [],
   "source": []
  },
  {
   "cell_type": "markdown",
   "id": "f5520275",
   "metadata": {},
   "source": [
    "### 4.5 Using a dictionary, create a phonebook with these entries, where we associate contacts with phone numbers.\n",
    "\n",
    "`phonebook = Dict(\"Prof Parragh Office\" => \"+43 732 2468 5500,\n",
    "                  \"LINZ AG\"             => \"+43 732 3400 7000\",\n",
    "                  \"Austrian Airlines\"   => \"+43 (0)5 1766 1000\",                             \n",
    "                  \"ÖBB\"                 => \"+43 (0)5 1717\")`\n",
    "\n",
    "1. Return the phone number of the contact corresponding to the first entry in your phonebook.\n",
    "2. Return the phone number of the contact corresponding to ÖBB\n",
    "3. Add another entry (\"Secretary PLM\", \"+43 732 2468 5501\")  to your phonebook.\n",
    "4. Check what our phonebook looks like\n",
    "5. You are graduated, and then you can delete \"Secretary PLM\" from our contact list\n",
    "6. Try to add \"Emergency\" as key to phonebook with the value 112 with the following code. Why doesn't this work?"
   ]
  },
  {
   "cell_type": "code",
   "execution_count": null,
   "id": "9d9e3b88",
   "metadata": {},
   "outputs": [],
   "source": []
  },
  {
   "cell_type": "markdown",
   "id": "54f84bb3",
   "metadata": {},
   "source": [
    "### 4.6 Application: The Caesar cipher.\n",
    "\n",
    "The Caesar cipher is a simple shift cipher that relies on transposing all the letters in the alphabet using an integer key between 0 and 26. Using a key of 0 or 26 will always yield the same output due to modular arithmetic. The letter is shifted for as many values as the value of the key.\n",
    "The general notation for rotational ciphers is `ROT + <key>`.\n",
    "\n",
    "For example, a `ROT13` on the Latin alphabet would be as follows:\n",
    "\n",
    "- Plain:  abcdefghijklmnopqrstuvwxyz\n",
    "- Cipher: nopqrstuvwxyzabcdefghijklm\n",
    "\n",
    "Others examples:\n",
    "- `ROT5 omg` gives `trl`\n",
    "- `ROT0 c` gives `c`\n",
    "- `ROT26 Cool` gives `Cool` \n",
    "\n",
    "Code an implementation of the Caesar cipher."
   ]
  },
  {
   "cell_type": "code",
   "execution_count": null,
   "id": "526e4c3a",
   "metadata": {},
   "outputs": [],
   "source": []
  }
 ],
 "metadata": {
  "kernelspec": {
   "display_name": "Julia 1.7.2",
   "language": "julia",
   "name": "julia-1.7"
  },
  "language_info": {
   "file_extension": ".jl",
   "mimetype": "application/julia",
   "name": "julia",
   "version": "1.7.2"
  }
 },
 "nbformat": 4,
 "nbformat_minor": 5
}
