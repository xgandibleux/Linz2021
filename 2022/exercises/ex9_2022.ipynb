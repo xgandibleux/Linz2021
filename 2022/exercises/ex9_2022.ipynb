{
 "cells": [
  {
   "cell_type": "markdown",
   "id": "380650a2",
   "metadata": {},
   "source": [
    "# Lesson 9: Exercises"
   ]
  },
  {
   "cell_type": "markdown",
   "id": "0feff05f",
   "metadata": {},
   "source": [
    "### 9.1 For the bi-objective unidimensional 01 knapsack problem, \n",
    "\n",
    "$\\max\\big\\{(p^1x,\\ p^2x) \\mid wx \\le c, \\ x\\in\\{0,1\\}^n\\big\\}$\n",
    "\n",
    "with \n",
    "\n",
    "- $n=5$\n",
    "- $p^1=(\\ 6, \\ 4, \\ 4, \\ 4, \\ 3)$\n",
    "- $p^2=(\\ 12, \\ 10, \\ 5, \\ 3, \\ 1)$\n",
    "- $w=(\\ 8, \\ 6, \\ 4, \\ 3, \\ 2)$\n",
    "- $c=15$\n",
    "\n",
    "1) compute $Y_N$, the set of non-dominated points.\n",
    "\n",
    "2) plot $Y_N$"
   ]
  },
  {
   "cell_type": "code",
   "execution_count": null,
   "id": "68c50550",
   "metadata": {},
   "outputs": [],
   "source": []
  },
  {
   "cell_type": "markdown",
   "id": "b19a8abd",
   "metadata": {},
   "source": [
    "### 9.2 Consider the following bi-objective generalized assignment (2-GAP) problem:\n",
    "\n",
    "$\\big ( \\ \\max \\sum_{i=1}^{m} \\sum_{j=1}^{n} p^1_{ij} x_{ij} \\ , \\\n",
    "\\max \\sum_{i=1}^{m} \\sum_{j=1}^{n} p^2_{ij} x_{ij} \\ \\big )$\n",
    "\n",
    "$s.t \\quad \\sum_{j=1}^{n} w_{ij} x_{ij} \\le b_i, \\quad \\forall i \\in \\{1, \\dots, m \\}$\n",
    "\n",
    "$\\qquad  \\sum_{i=1}^{m} x_{ij} = 1, \\quad \\forall j \\in \\{1, \\dots, n \\}$\n",
    "\n",
    "\n",
    "$\\qquad  x_{ij}\\in\\{0,1\\}, \\ \\forall i \\in \\{1, \\dots, m \\}, \\  \\forall j \\in \\{1, \\dots, n \\}$\n",
    "\n",
    "Generate an instance $m\\times n$ with coefficients randomly generated as follow:\n",
    "- $1 \\le p^1_{ij}, \\ p^2_{ij}, \\ w_{ij} \\le 10$ \n",
    "- $b_i = \\lfloor  \\frac{\\sum_{j=1}^{m}w_{ij}}{2} \\rfloor$ \n",
    "\n",
    "and:\n",
    "- compute $Y_N$, the set of non-dominated points\n",
    "- plot $Y_N$"
   ]
  },
  {
   "cell_type": "code",
   "execution_count": null,
   "id": "adffa0b5",
   "metadata": {},
   "outputs": [],
   "source": []
  }
 ],
 "metadata": {
  "kernelspec": {
   "display_name": "Julia 1.7.2",
   "language": "julia",
   "name": "julia-1.7"
  },
  "language_info": {
   "file_extension": ".jl",
   "mimetype": "application/julia",
   "name": "julia",
   "version": "1.7.2"
  }
 },
 "nbformat": 4,
 "nbformat_minor": 5
}
