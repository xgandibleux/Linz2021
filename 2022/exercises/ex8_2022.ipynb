{
 "cells": [
  {
   "cell_type": "markdown",
   "id": "7e1cd66f",
   "metadata": {},
   "source": [
    "# Lesson 8: Exercises"
   ]
  },
  {
   "cell_type": "markdown",
   "id": "70903b6d",
   "metadata": {},
   "source": [
    "### 8.1 For the unidimensional 01 knapsack problem, \n",
    "\n",
    "$$z=\\max\\big\\{px \\mid wx \\le c, \\ x\\in\\{0,1\\}^n\\big\\}$$\n",
    "\n",
    "define a structure `kpDat` and `kpSol` collecting respectively the values ($p$, $w$, $W$) of a numerical instance  and the values ($x$, $z$, status) of a solution."
   ]
  },
  {
   "cell_type": "code",
   "execution_count": null,
   "id": "f8e28f82",
   "metadata": {},
   "outputs": [],
   "source": []
  },
  {
   "cell_type": "markdown",
   "id": "6e7a2878",
   "metadata": {},
   "source": [
    "### 8.2 Adapt the code produced for the exercise 7.1 in using the two structures."
   ]
  },
  {
   "cell_type": "code",
   "execution_count": null,
   "id": "ee9e7251",
   "metadata": {},
   "outputs": [],
   "source": []
  }
 ],
 "metadata": {
  "kernelspec": {
   "display_name": "Julia 1.7.2",
   "language": "julia",
   "name": "julia-1.7"
  },
  "language_info": {
   "file_extension": ".jl",
   "mimetype": "application/julia",
   "name": "julia",
   "version": "1.7.2"
  }
 },
 "nbformat": 4,
 "nbformat_minor": 5
}
