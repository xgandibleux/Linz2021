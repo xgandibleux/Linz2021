{
 "cells": [
  {
   "cell_type": "markdown",
   "id": "ee74ac5c",
   "metadata": {},
   "source": [
    "# Lesson 2: Exercises"
   ]
  },
  {
   "cell_type": "markdown",
   "id": "3e2a0a9a",
   "metadata": {},
   "source": [
    "*Remark*: for these exercises, your programs have to be prepared (a) with your favorite editor and run into the REPL, or (b) with your favorite notebook and run into it. Don't forget to comment your codes."
   ]
  },
  {
   "cell_type": "markdown",
   "id": "950ab788",
   "metadata": {},
   "source": [
    "### 2.1 What are the characters that are used for strings?\n",
    "\n",
    "1. Single or double quote\n",
    "2. Double quotes or sets of three double quotes\n",
    "3. Only single quotes\n",
    "4. Only double quotes\n",
    "\n",
    "Try your answer(s)."
   ]
  },
  {
   "cell_type": "code",
   "execution_count": null,
   "id": "df5a8fcb",
   "metadata": {},
   "outputs": [],
   "source": []
  },
  {
   "cell_type": "markdown",
   "id": "056fb5de",
   "metadata": {},
   "source": [
    "### 2.2 Look up the julia documentation for the `convert` function."
   ]
  },
  {
   "cell_type": "code",
   "execution_count": null,
   "id": "53a46fb2",
   "metadata": {},
   "outputs": [],
   "source": []
  },
  {
   "cell_type": "markdown",
   "id": "e0745b86",
   "metadata": {},
   "source": [
    "### 2.3 Assign the value *24* to a variable named `hours`. Convert *hours* to a float and assign it to variable `hours_float`"
   ]
  },
  {
   "cell_type": "code",
   "execution_count": null,
   "id": "a85a7052",
   "metadata": {},
   "outputs": [],
   "source": []
  },
  {
   "cell_type": "markdown",
   "id": "c399d99c",
   "metadata": {},
   "source": [
    "### 2.4 In considering the value of π, how\n",
    "1. to display on screen the value of π?\n",
    "2. to get the upper integer value of π?\n",
    "3. to get the lower integer value of π?\n",
    "4. to get an integer value from π?\n",
    "5. to get the integer value from π closest to zero?\n",
    "6. to get the rounded value to n digits after the decimal place of π?"
   ]
  },
  {
   "cell_type": "code",
   "execution_count": null,
   "id": "5e5895b7",
   "metadata": {},
   "outputs": [],
   "source": []
  },
  {
   "cell_type": "markdown",
   "id": "e89784a8",
   "metadata": {},
   "source": [
    "### 2.5 See what happens when you execute (understand each command and the error when it occurs)\n",
    "1. `convert(Float64,2)`\n",
    "2. `convert(Int64,2.0)`\n",
    "3. `convert(Int64,2.8)`\n",
    "4. `convert(Int64,round(2.8))`\n",
    "\n",
    "And for:\n",
    "1. `convert(Int64, \"1\")`\n",
    "2. `parse(Int64, \"1\")`\n",
    "3. `parse(Int64, '1')`\n",
    "4. `parse(Int64, \"11\")`\n",
    "5. `parse(Int64, '11')`"
   ]
  },
  {
   "cell_type": "code",
   "execution_count": null,
   "id": "dc095567",
   "metadata": {},
   "outputs": [],
   "source": []
  },
  {
   "cell_type": "markdown",
   "id": "c055eb78",
   "metadata": {},
   "source": [
    "### 2.6 Write a program which read the first name of the user on the console and displays it as follow:\n",
    "```\n",
    "What's your first name ?  \n",
    "\n",
    "Jules\n",
    "\n",
    "Hi Jules !\n",
    "```"
   ]
  },
  {
   "cell_type": "code",
   "execution_count": null,
   "id": "d709d4b0",
   "metadata": {},
   "outputs": [],
   "source": []
  },
  {
   "cell_type": "markdown",
   "id": "0284d857",
   "metadata": {},
   "source": [
    "### 2.7 For the exercise 1.6, display the type of the input"
   ]
  },
  {
   "cell_type": "code",
   "execution_count": null,
   "id": "b1cd846a",
   "metadata": {},
   "outputs": [],
   "source": []
  },
  {
   "cell_type": "markdown",
   "id": "2015316a",
   "metadata": {},
   "source": [
    "### 2.8 Code a program which read two numerical data on the console, one integer and one float, and displays: \n",
    "1. the sum of the numbers\n",
    "2. the type of the sum"
   ]
  },
  {
   "cell_type": "code",
   "execution_count": null,
   "id": "02eaf91a",
   "metadata": {},
   "outputs": [],
   "source": []
  },
  {
   "cell_type": "markdown",
   "id": "7cb8cfa1",
   "metadata": {},
   "source": [
    "### 2.9 Code a program which read on the console a number of days, and displays: \n",
    "1. the number of full weeks corresponding to this number of days\n",
    "2. the number of days into the week which is not full"
   ]
  },
  {
   "cell_type": "code",
   "execution_count": null,
   "id": "1223d2df",
   "metadata": {},
   "outputs": [],
   "source": []
  },
  {
   "cell_type": "markdown",
   "id": "db2c26cc",
   "metadata": {},
   "source": [
    "### 2.10 How to check if a word is a palindrome? Try your solution with :\n",
    "\n",
    "1. julia\n",
    "2. kayak\n",
    "3. never odd or even"
   ]
  },
  {
   "cell_type": "code",
   "execution_count": null,
   "id": "023da909",
   "metadata": {},
   "outputs": [],
   "source": []
  },
  {
   "cell_type": "markdown",
   "id": "61fbbd0d",
   "metadata": {},
   "source": [
    "### 2.11 The inflation rate:\n",
    "The inflation rate is calculated with the following formula that allows to see the percentage of increase or decrease in cost between given years:\n",
    "\n",
    "$R = \\frac{(B-A)}{A} \\times 100$\n",
    "\n",
    "where \n",
    "$A$ is the starting cost\n",
    "$B$ is the ending cost.\n",
    "\n",
    "For example, if the price for 1 liter of SP95 in April 2022 is 2.07€ and 1.49€ in April 2021, the inflation rate is:\n",
    "\n",
    "$R = 38.926174496644286\\%$\n",
    "\n",
    "Questions; write a program:\n",
    "\n",
    "a) to compute the value of $R$ when $A$=1.49€ and $B$=2.07€\n",
    "\n",
    "b) asking to the user to give interactively the value of $B$ and the month corresponding to that value\n",
    "\n",
    "c) asking to the user to give interactively the value of $B$ in euros (value ended with €) and verify that the value is well provided only in euros\n",
    "\n",
    "d) which convert in US dollars the previous value provided in euros  (1€=1.06USD)\n",
    "\n",
    "e) to display the result with exactly 2 digits after the decimal point and preceded by the  symbol `$`\n",
    "\n",
    "f) to display the rounded result with exactly 2 digits after the decimal point and preceded by the  symbol `$`\n",
    "\n",
    "g) to display the result according the following format : \n",
    "In *month* 2022 the inflation rate is *###.##%* "
   ]
  },
  {
   "cell_type": "code",
   "execution_count": null,
   "id": "147247cc",
   "metadata": {},
   "outputs": [],
   "source": []
  },
  {
   "cell_type": "markdown",
   "id": "62006b1c",
   "metadata": {},
   "source": [
    "### 2.12 The compound interest:\n",
    "\n",
    "The compound interest is calculated with the following formula:\n",
    "\n",
    "$A = P \\times (1 + \\frac{r}{n})^{(n \\times t)}$\n",
    "\n",
    "where \n",
    "- P is the principal balance, \n",
    "- r is the interest rate, \n",
    "- n is the number of times interest is compounded per time period \n",
    "- t is the number of time periods.\n",
    "\n",
    "For example, if an amount of 5,000€ is deposited into a savings account at an annual interest rate of 5%, compounded monthly, the value of the investment after 10 years is\n",
    "\n",
    "$A=8235.05€$\n",
    "\n",
    "Write a program asking to the user to give interactively the values and to compute the value of $A$."
   ]
  },
  {
   "cell_type": "code",
   "execution_count": null,
   "id": "db883219",
   "metadata": {},
   "outputs": [],
   "source": []
  },
  {
   "cell_type": "markdown",
   "id": "c957c96d",
   "metadata": {},
   "source": [
    "### 2.13 The elapsed time\n",
    "\n",
    "Write a program `hms.jl` which perform the following steps:\n",
    "1. Ask from the user an elapsed time in minutes (a float value);\n",
    "2. Assign this value to a variable named *time_elapsed*; \n",
    "3. Convert *time_elapsed* into three integers named *hours*, *minutes*, *seconds*; \n",
    "4. Display the results on the terminal. "
   ]
  },
  {
   "cell_type": "code",
   "execution_count": null,
   "id": "70a06ac6",
   "metadata": {},
   "outputs": [],
   "source": []
  }
 ],
 "metadata": {
  "celltoolbar": "Format de la Cellule Texte Brut",
  "kernelspec": {
   "display_name": "Julia 1.7.2",
   "language": "julia",
   "name": "julia-1.7"
  },
  "language_info": {
   "file_extension": ".jl",
   "mimetype": "application/julia",
   "name": "julia",
   "version": "1.7.2"
  }
 },
 "nbformat": 4,
 "nbformat_minor": 5
}
