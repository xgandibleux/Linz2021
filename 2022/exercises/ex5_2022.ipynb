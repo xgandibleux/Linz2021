{
 "cells": [
  {
   "cell_type": "markdown",
   "id": "8f2b865e",
   "metadata": {},
   "source": [
    "# Lesson 5: Exercises"
   ]
  },
  {
   "cell_type": "markdown",
   "id": "54596cd7",
   "metadata": {},
   "source": [
    "### 5.1 Write a conditional statement that prints: \n",
    "- a number if the number is even \n",
    "- the string `odd` if the number is odd. "
   ]
  },
  {
   "cell_type": "code",
   "execution_count": null,
   "id": "8fa4a1f3",
   "metadata": {},
   "outputs": [],
   "source": []
  },
  {
   "cell_type": "markdown",
   "id": "df5dd0b6",
   "metadata": {},
   "source": [
    "### 5.2 Rewrite the code from 5.1 using a ternary operator."
   ]
  },
  {
   "cell_type": "code",
   "execution_count": null,
   "id": "28d14c39",
   "metadata": {},
   "outputs": [],
   "source": []
  },
  {
   "cell_type": "markdown",
   "id": "9aa1db58",
   "metadata": {},
   "source": [
    "### 5.3 Write a loop that prints the squares of integers between 1 and 100."
   ]
  },
  {
   "cell_type": "code",
   "execution_count": null,
   "id": "b62e3f8f",
   "metadata": {},
   "outputs": [],
   "source": []
  },
  {
   "cell_type": "markdown",
   "id": "045a69ec",
   "metadata": {},
   "source": [
    "### 5.4 Rewrite the code from 5.3 such that the squares of integers (starting from 1) is printed as long as the squares are not greater or egal to a value limit given a priori."
   ]
  },
  {
   "cell_type": "code",
   "execution_count": null,
   "id": "520c0332",
   "metadata": {},
   "outputs": [],
   "source": []
  },
  {
   "cell_type": "markdown",
   "id": "b9570815",
   "metadata": {},
   "source": [
    "### 5.5 Given a number N, \n",
    "- print `Tik` if N is divisible by 3, \n",
    "- print `Tok` if N is divisible by 5,  \n",
    "- print `TikTok` if N is divisible by 3 and 5, \n",
    "- Otherwise just print the number itself"
   ]
  },
  {
   "cell_type": "code",
   "execution_count": null,
   "id": "f210d595",
   "metadata": {},
   "outputs": [],
   "source": []
  },
  {
   "cell_type": "markdown",
   "id": "2a9630bf",
   "metadata": {},
   "source": [
    "### 5.6 Write a function `add_one` that adds 1 to its input."
   ]
  },
  {
   "cell_type": "code",
   "execution_count": null,
   "id": "d0032547",
   "metadata": {},
   "outputs": [],
   "source": []
  },
  {
   "cell_type": "markdown",
   "id": "7f418a87",
   "metadata": {},
   "source": [
    "### 5.7 By two different ways, use broadcast to increment every element of matrix `A` 2x2 by 1 and assign it to a variable `A1`."
   ]
  },
  {
   "cell_type": "code",
   "execution_count": null,
   "id": "cfcc0de3",
   "metadata": {},
   "outputs": [],
   "source": []
  },
  {
   "cell_type": "markdown",
   "id": "dc7b20c0",
   "metadata": {},
   "source": [
    "### 5.8 Consider  the function waouh defined as follow:\n",
    "\n",
    "`waouh(x::Int64) = println(\"waouh with one integer represented on 8 bytes!\")`\n",
    "\n",
    "1. Extend the function `waouh`, adding a method that takes only one input argument, which is of type Bool, and prints \"waouh with one boolean!\"\n",
    "2. Check that the method being dispatched when you execute\n",
    "\n",
    "`waouh(true)`\n",
    "\n",
    "is the one you wrote."
   ]
  },
  {
   "cell_type": "code",
   "execution_count": null,
   "id": "87b60359",
   "metadata": {},
   "outputs": [],
   "source": []
  },
  {
   "cell_type": "markdown",
   "id": "b339b920",
   "metadata": {},
   "source": [
    "### 5.9 Application:\n",
    "\n",
    "We consider a series of measures given.  For example: $\\quad$ `1 1 3 4 6 2` \n",
    "\n",
    "Code a program which returns one of this symbol among $\\quad$ \n",
    "$\\large{-},\\ \\large{+},\\ \\large{=},\\ \\large{\\sim}$ $\\quad$\n",
    "if the series is\n",
    "- constant ($\\large{=}$)\n",
    "- monotonic ($\\large{+}$)\n",
    "- nonmonitonic ($\\large{-}$)\n",
    "- otherwise ($\\large{\\sim}$)\n",
    "\n",
    "Examples:\n",
    "- `5 3 1` $\\quad \\Rightarrow \\quad$ $\\large{-}$\n",
    "- `1 1 3` $\\quad \\Rightarrow \\quad$ $\\large{+}$\n",
    "- `4 4 4 4` $\\quad \\Rightarrow \\quad$ $\\large{=}$\n",
    "-  `1 1 3 4 6 2`  $\\quad \\Rightarrow \\quad$ $\\large{\\sim}$"
   ]
  },
  {
   "cell_type": "code",
   "execution_count": null,
   "id": "6a2b1605",
   "metadata": {},
   "outputs": [],
   "source": []
  },
  {
   "cell_type": "markdown",
   "id": "043bf17c",
   "metadata": {},
   "source": [
    "### 5.10 Application:\n",
    "\n",
    "Let $f:[a;b]\\rightarrow \\mathbb{R}$ a function strictly monotonic on the interval $[a,b]$. We suppose the equation $f(x)=0$ has one and only one solution on the interval. Determine this value for a given precision using a dichotomic principle."
   ]
  },
  {
   "cell_type": "code",
   "execution_count": null,
   "id": "4699c8fc",
   "metadata": {},
   "outputs": [],
   "source": []
  },
  {
   "cell_type": "markdown",
   "id": "6f26b4b6",
   "metadata": {},
   "source": [
    "### 5.11 Application:\n",
    "\n",
    "For the unidimensional 01 knapsack problem, \n",
    "\n",
    "$z=\\max\\big\\{px \\mid wx \\le c, \\ x\\in\\{0,1\\}^n\\big\\}$\n",
    "\n",
    "with \n",
    "\n",
    "- $n=5$\n",
    "- $p=(5, 3, 2, 7, 4)$\n",
    "- $w=(2, 8, 4, 2, 5)$\n",
    "- $c=10$\n",
    "\n",
    "compute the linear relaxation."
   ]
  },
  {
   "cell_type": "code",
   "execution_count": null,
   "id": "5dabdab4",
   "metadata": {},
   "outputs": [],
   "source": []
  }
 ],
 "metadata": {
  "kernelspec": {
   "display_name": "Julia 1.7.2",
   "language": "julia",
   "name": "julia-1.7"
  },
  "language_info": {
   "file_extension": ".jl",
   "mimetype": "application/julia",
   "name": "julia",
   "version": "1.7.2"
  }
 },
 "nbformat": 4,
 "nbformat_minor": 5
}
